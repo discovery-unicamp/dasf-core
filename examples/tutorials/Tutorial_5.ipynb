{
 "cells": [
  {
   "cell_type": "markdown",
   "metadata": {},
   "source": [
    "### Tutorial 5 - Using profiler\n",
    "\n",
    "This tutorial shows how to use the profiler to measure the performance of your code. We used the same pipeline of the previous tutorial.\n",
    "\n",
    "The profile is a tool that measures the time spent in each function of your code. It is very useful to identify bottlenecks and to optimize your code. By default it is not enabled and the simplest way to enable the default profiler is to use the `register_default_profiler` function. It will be shown later, in the notebook.\n",
    "\n",
    "The profile consists in two steps:\n",
    "1. Register the profiler and execute the desired pipeline. It will generate different files, which contains traces of the execution, in the current directory. Each file will have different information, depending on the plugins attached. Using the `register_default_profiler` function, two plugins will be attached, one to measure the dask task time (and other useful information, such as, per task data shape, type, MB, etc.) and a resource usage plugin (which measure GPU, CPU, memory and IO usage).\n",
    "2. Perform analysis of the generated files. Some analysis are already implemented in the `profiler` module, but you can also implement your own analysis. For now we have the followig analysis: per function time, per task time and per worker task balance. It will be shown later, in the notebook."
   ]
  },
  {
   "cell_type": "markdown",
   "metadata": {},
   "source": [
    "## Enabling profiling"
   ]
  },
  {
   "cell_type": "code",
   "execution_count": 1,
   "metadata": {},
   "outputs": [],
   "source": [
    "import numpy as np\n",
    "\n",
    "from dasf.datasets import make_blobs\n",
    "\n",
    "n_samples = 100000\n",
    "n_bins = 3\n",
    "\n",
    "# Generate 3 blobs with 2 classes where the second blob contains\n",
    "# half positive samples and half negative samples. Probability in this\n",
    "# blob is therefore 0.5.\n",
    "centers = [(-6, -6), (0, 0), (9, 1)]\n",
    "X, y = make_blobs(n_samples=n_samples, centers=centers, shuffle=False, random_state=42)\n",
    "\n",
    "np.save(\"X.npy\", X)\n",
    "np.save(\"y.npy\", y)"
   ]
  },
  {
   "cell_type": "code",
   "execution_count": 2,
   "metadata": {},
   "outputs": [],
   "source": [
    "from dasf.datasets import DatasetArray\n",
    "from dasf.datasets import DatasetLabeled\n",
    "\n",
    "\n",
    "class MyMakeBlobs(DatasetLabeled):\n",
    "    def __init__(self):\n",
    "        super().__init__(name=\"My Own make_blobs()\", download=False)\n",
    "        \n",
    "        # Let's assign the train and val data.\n",
    "        self._train = DatasetArray(name=\"X\", download=False, root=\"X.npy\", chunks=(5000, 2))\n",
    "        self._val = DatasetArray(name=\"y\", download=False, root=\"y.npy\", chunks=(5000))\n",
    "\n",
    "make_blobs = MyMakeBlobs()"
   ]
  },
  {
   "cell_type": "code",
   "execution_count": 3,
   "metadata": {},
   "outputs": [],
   "source": [
    "from dasf.transforms import Normalize\n",
    "\n",
    "normalize = Normalize()"
   ]
  },
  {
   "cell_type": "code",
   "execution_count": 4,
   "metadata": {},
   "outputs": [
    {
     "name": "stderr",
     "output_type": "stream",
     "text": [
      "2023-08-15 11:55:48,568 - distributed.preloading - INFO - Creating preload: dask_cuda.initialize\n",
      "2023-08-15 11:55:48,568 - distributed.preloading - INFO - Import preload module: dask_cuda.initialize\n",
      "2023-08-15 11:55:48,568 - distributed.preloading - INFO - Creating preload: dask_cuda.initialize\n",
      "2023-08-15 11:55:48,568 - distributed.preloading - INFO - Import preload module: dask_cuda.initialize\n",
      "2023-08-15 11:55:48,673 - distributed.preloading - INFO - Creating preload: dask_cuda.initialize\n",
      "2023-08-15 11:55:48,673 - distributed.preloading - INFO - Import preload module: dask_cuda.initialize\n",
      "2023-08-15 11:55:48,752 - distributed.preloading - INFO - Creating preload: dask_cuda.initialize\n",
      "2023-08-15 11:55:48,752 - distributed.preloading - INFO - Import preload module: dask_cuda.initialize\n"
     ]
    }
   ],
   "source": [
    "from dasf.pipeline.executors import DaskPipelineExecutor\n",
    "\n",
    "dask = DaskPipelineExecutor(local=True, use_gpu=True)"
   ]
  },
  {
   "cell_type": "code",
   "execution_count": 5,
   "metadata": {},
   "outputs": [],
   "source": [
    "from dasf.ml.cluster import KMeans\n",
    "from dasf.ml.cluster import SOM\n",
    "\n",
    "kmeans = KMeans(n_clusters=3, max_iter=100)\n",
    "som = SOM(x=1, y=3, input_len=2, num_epochs=100)"
   ]
  },
  {
   "cell_type": "code",
   "execution_count": 6,
   "metadata": {},
   "outputs": [],
   "source": [
    "from dasf.transforms import PersistDaskData\n",
    "\n",
    "persist_kmeans = PersistDaskData()\n",
    "persist_som = PersistDaskData()"
   ]
  },
  {
   "cell_type": "code",
   "execution_count": 7,
   "metadata": {},
   "outputs": [
    {
     "data": {
      "image/svg+xml": [
       "<?xml version=\"1.0\" encoding=\"UTF-8\" standalone=\"no\"?>\n",
       "<!DOCTYPE svg PUBLIC \"-//W3C//DTD SVG 1.1//EN\"\n",
       " \"http://www.w3.org/Graphics/SVG/1.1/DTD/svg11.dtd\">\n",
       "<!-- Generated by graphviz version 2.43.0 (0)\n",
       " -->\n",
       "<!-- Title: A KMeans and SOM Pipeline Pages: 1 -->\n",
       "<svg width=\"574pt\" height=\"305pt\"\n",
       " viewBox=\"0.00 0.00 574.28 305.00\" xmlns=\"http://www.w3.org/2000/svg\" xmlns:xlink=\"http://www.w3.org/1999/xlink\">\n",
       "<g id=\"graph0\" class=\"graph\" transform=\"scale(1 1) rotate(0) translate(4 301)\">\n",
       "<title>A KMeans and SOM Pipeline</title>\n",
       "<polygon fill=\"white\" stroke=\"transparent\" points=\"-4,4 -4,-301 570.28,-301 570.28,4 -4,4\"/>\n",
       "<!-- 68414549 -->\n",
       "<g id=\"node1\" class=\"node\">\n",
       "<title>68414549</title>\n",
       "<ellipse fill=\"none\" stroke=\"black\" cx=\"260.14\" cy=\"-192\" rx=\"107.78\" ry=\"18\"/>\n",
       "<text text-anchor=\"middle\" x=\"260.14\" y=\"-188.3\" font-family=\"Times,serif\" font-size=\"14.00\">Normalize.transform</text>\n",
       "</g>\n",
       "<!-- 499072774 -->\n",
       "<g id=\"node3\" class=\"node\">\n",
       "<title>499072774</title>\n",
       "<ellipse fill=\"none\" stroke=\"black\" cx=\"160.14\" cy=\"-105\" rx=\"98.58\" ry=\"18\"/>\n",
       "<text text-anchor=\"middle\" x=\"160.14\" y=\"-101.3\" font-family=\"Times,serif\" font-size=\"14.00\">KMeans.fit_predict</text>\n",
       "</g>\n",
       "<!-- 68414549&#45;&gt;499072774 -->\n",
       "<g id=\"edge2\" class=\"edge\">\n",
       "<title>68414549&#45;&gt;499072774</title>\n",
       "<path fill=\"none\" stroke=\"black\" d=\"M240.38,-174.21C225.32,-161.4 204.38,-143.61 187.67,-129.4\"/>\n",
       "<polygon fill=\"black\" stroke=\"black\" points=\"189.74,-126.57 179.85,-122.76 185.21,-131.9 189.74,-126.57\"/>\n",
       "<text text-anchor=\"middle\" x=\"221.14\" y=\"-144.8\" font-family=\"Times,serif\" font-size=\"14.00\">X</text>\n",
       "</g>\n",
       "<!-- 499072781 -->\n",
       "<g id=\"node4\" class=\"node\">\n",
       "<title>499072781</title>\n",
       "<ellipse fill=\"none\" stroke=\"black\" cx=\"406.14\" cy=\"-105\" rx=\"83.69\" ry=\"18\"/>\n",
       "<text text-anchor=\"middle\" x=\"406.14\" y=\"-101.3\" font-family=\"Times,serif\" font-size=\"14.00\">SOM.fit_predict</text>\n",
       "</g>\n",
       "<!-- 68414549&#45;&gt;499072781 -->\n",
       "<g id=\"edge3\" class=\"edge\">\n",
       "<title>68414549&#45;&gt;499072781</title>\n",
       "<path fill=\"none\" stroke=\"black\" d=\"M288.29,-174.61C311.46,-161.12 344.48,-141.9 369.67,-127.23\"/>\n",
       "<polygon fill=\"black\" stroke=\"black\" points=\"371.69,-130.11 378.57,-122.05 368.17,-124.06 371.69,-130.11\"/>\n",
       "<text text-anchor=\"middle\" x=\"346.14\" y=\"-144.8\" font-family=\"Times,serif\" font-size=\"14.00\">X</text>\n",
       "</g>\n",
       "<!-- 261617047 -->\n",
       "<g id=\"node2\" class=\"node\">\n",
       "<title>261617047</title>\n",
       "<ellipse fill=\"none\" stroke=\"black\" cx=\"260.14\" cy=\"-279\" rx=\"93.68\" ry=\"18\"/>\n",
       "<text text-anchor=\"middle\" x=\"260.14\" y=\"-275.3\" font-family=\"Times,serif\" font-size=\"14.00\">DatasetArray.load</text>\n",
       "</g>\n",
       "<!-- 261617047&#45;&gt;68414549 -->\n",
       "<g id=\"edge1\" class=\"edge\">\n",
       "<title>261617047&#45;&gt;68414549</title>\n",
       "<path fill=\"none\" stroke=\"black\" d=\"M260.14,-260.8C260.14,-249.16 260.14,-233.55 260.14,-220.24\"/>\n",
       "<polygon fill=\"black\" stroke=\"black\" points=\"263.64,-220.18 260.14,-210.18 256.64,-220.18 263.64,-220.18\"/>\n",
       "<text text-anchor=\"middle\" x=\"265.14\" y=\"-231.8\" font-family=\"Times,serif\" font-size=\"14.00\">X</text>\n",
       "</g>\n",
       "<!-- 499067957 -->\n",
       "<g id=\"node5\" class=\"node\">\n",
       "<title>499067957</title>\n",
       "<ellipse fill=\"none\" stroke=\"black\" cx=\"137.14\" cy=\"-18\" rx=\"137.28\" ry=\"18\"/>\n",
       "<text text-anchor=\"middle\" x=\"137.14\" y=\"-14.3\" font-family=\"Times,serif\" font-size=\"14.00\">PersistDaskData.transform</text>\n",
       "</g>\n",
       "<!-- 499072774&#45;&gt;499067957 -->\n",
       "<g id=\"edge4\" class=\"edge\">\n",
       "<title>499072774&#45;&gt;499067957</title>\n",
       "<path fill=\"none\" stroke=\"black\" d=\"M155.48,-86.8C152.3,-75.05 148.03,-59.24 144.4,-45.84\"/>\n",
       "<polygon fill=\"black\" stroke=\"black\" points=\"147.78,-44.91 141.79,-36.18 141.02,-46.74 147.78,-44.91\"/>\n",
       "<text text-anchor=\"middle\" x=\"155.14\" y=\"-57.8\" font-family=\"Times,serif\" font-size=\"14.00\">X</text>\n",
       "</g>\n",
       "<!-- 499068127 -->\n",
       "<g id=\"node6\" class=\"node\">\n",
       "<title>499068127</title>\n",
       "<ellipse fill=\"none\" stroke=\"black\" cx=\"429.14\" cy=\"-18\" rx=\"137.28\" ry=\"18\"/>\n",
       "<text text-anchor=\"middle\" x=\"429.14\" y=\"-14.3\" font-family=\"Times,serif\" font-size=\"14.00\">PersistDaskData.transform</text>\n",
       "</g>\n",
       "<!-- 499072781&#45;&gt;499068127 -->\n",
       "<g id=\"edge5\" class=\"edge\">\n",
       "<title>499072781&#45;&gt;499068127</title>\n",
       "<path fill=\"none\" stroke=\"black\" d=\"M410.79,-86.8C413.97,-75.05 418.25,-59.24 421.87,-45.84\"/>\n",
       "<polygon fill=\"black\" stroke=\"black\" points=\"425.26,-46.74 424.49,-36.18 418.5,-44.91 425.26,-46.74\"/>\n",
       "<text text-anchor=\"middle\" x=\"423.14\" y=\"-57.8\" font-family=\"Times,serif\" font-size=\"14.00\">X</text>\n",
       "</g>\n",
       "</g>\n",
       "</svg>\n"
      ],
      "text/plain": [
       "<graphviz.graphs.Digraph at 0x7ff6a06784c0>"
      ]
     },
     "execution_count": 7,
     "metadata": {},
     "output_type": "execute_result"
    }
   ],
   "source": [
    "from dasf.pipeline import Pipeline\n",
    "\n",
    "pipeline = Pipeline(\"A KMeans and SOM Pipeline\", executor=dask)\n",
    "\n",
    "pipeline.add(normalize, X=make_blobs._train) \\\n",
    "        .add(kmeans.fit_predict, X=normalize) \\\n",
    "        .add(som.fit_predict, X=normalize) \\\n",
    "        .add(persist_kmeans, X=kmeans.fit_predict) \\\n",
    "        .add(persist_som, X=som.fit_predict) \\\n",
    "        .visualize()"
   ]
  },
  {
   "cell_type": "markdown",
   "metadata": {},
   "source": [
    "Once you created your pipeline we can attach the profiler to it. The profiler will collect the data and store it in a file (one for each plugin). The file will be stored in the same directory as the notebook. The file name will be controled by the `name` parameter followed by `.msgpack` extension. If you do not provide the `name` parameter it will be `default`.\n",
    "\n",
    "The `enable_nvtx` parameter will enable the NVTX markers. This will allow you to see the pipeline in the NVIDIA Nsight Systems. This is only available on NVIDIA GPUs.\n",
    "\n",
    "Finally, the `add_time_suffix` parameter will add the current time to the file name (useful for unique file names).In this way you can run the same pipeline multiple times and get different files. The file name will be `name_time.msgpack`."
   ]
  },
  {
   "cell_type": "code",
   "execution_count": 8,
   "metadata": {},
   "outputs": [
    {
     "name": "stdout",
     "output_type": "stream",
     "text": [
      "Registered worker plugin: Tutorial_5_Profile-TracePlugin\n",
      "Registered resource plugin: Tutorial_5_Profile-ResourceMonitor\n"
     ]
    }
   ],
   "source": [
    "from dasf.profile import register_default_profiler\n",
    "\n",
    "register_default_profiler(\n",
    "    pipeline,\n",
    "    name=\"Tutorial_5_Profile\",\n",
    "    enable_nvtx=False,\n",
    "    add_time_suffix=False   \n",
    ")"
   ]
  },
  {
   "cell_type": "code",
   "execution_count": 9,
   "metadata": {},
   "outputs": [
    {
     "name": "stdout",
     "output_type": "stream",
     "text": [
      "[2023-08-15 11:55:50-0300] INFO - Beginning pipeline run for 'A KMeans and SOM Pipeline'\n",
      "[2023-08-15 11:55:50-0300] INFO - Task 'DatasetArray.load': Starting task run...\n",
      "[2023-08-15 11:55:50-0300] INFO - Task 'DatasetArray.load': Finished task run\n",
      "[2023-08-15 11:55:50-0300] INFO - Task 'Normalize.transform': Starting task run...\n",
      "[2023-08-15 11:55:50-0300] INFO - Task 'Normalize.transform': Finished task run\n",
      "[2023-08-15 11:55:50-0300] INFO - Task 'KMeans.fit_predict': Starting task run...\n",
      "[2023-08-15 11:55:55-0300] INFO - Task 'KMeans.fit_predict': Finished task run\n",
      "[2023-08-15 11:55:55-0300] INFO - Task 'SOM.fit_predict': Starting task run...\n",
      "[2023-08-15 11:56:21-0300] INFO - Task 'SOM.fit_predict': Finished task run\n",
      "[2023-08-15 11:56:21-0300] INFO - Task 'PersistDaskData.transform': Starting task run...\n",
      "[2023-08-15 11:56:21-0300] INFO - Task 'PersistDaskData.transform': Finished task run\n",
      "[2023-08-15 11:56:21-0300] INFO - Task 'PersistDaskData.transform': Starting task run...\n",
      "[2023-08-15 11:56:21-0300] INFO - Task 'PersistDaskData.transform': Finished task run\n",
      "[2023-08-15 11:56:21-0300] INFO - Pipeline run successfully\n",
      "CPU times: user 11.8 s, sys: 739 ms, total: 12.5 s\n",
      "Wall time: 31.2 s\n"
     ]
    }
   ],
   "source": [
    "%time pipeline.run()"
   ]
  },
  {
   "cell_type": "markdown",
   "metadata": {},
   "source": [
    "The resource monitor plugin runs indefinitely, until the program exits. As the database are buffered, in order to reduce the IO pressure, the data are flushed to the database only after 5000 entries (or when program exits). We can shutdown the executor, in order to flush the data to the database."
   ]
  },
  {
   "cell_type": "code",
   "execution_count": 10,
   "metadata": {},
   "outputs": [
    {
     "name": "stderr",
     "output_type": "stream",
     "text": [
      "2023-08-15 11:56:54,586 - distributed.active_memory_manager - WARNING - Tried retiring worker tcp://127.0.0.1:35871, but 14 tasks could not be moved as there are no suitable workers to receive them. The worker will not be retired.\n",
      "2023-08-15 11:56:54,587 - distributed.active_memory_manager - WARNING - Tried retiring worker tcp://127.0.0.1:35148, but 14 tasks could not be moved as there are no suitable workers to receive them. The worker will not be retired.\n",
      "2023-08-15 11:56:54,587 - distributed.active_memory_manager - WARNING - Tried retiring worker tcp://127.0.0.1:38191, but 16 tasks could not be moved as there are no suitable workers to receive them. The worker will not be retired.\n",
      "2023-08-15 11:56:54,588 - distributed.active_memory_manager - WARNING - Tried retiring worker tcp://127.0.0.1:39400, but 14 tasks could not be moved as there are no suitable workers to receive them. The worker will not be retired.\n"
     ]
    }
   ],
   "source": [
    "dask.shutdown()"
   ]
  },
  {
   "cell_type": "markdown",
   "metadata": {},
   "source": [
    "## Analysing the profile data\n",
    "\n",
    "Once the code ran, and traceevents were collected, we can perform analysis to understand the performance of the code. The first step is the load the databases. The `register_default_profiler` attachs two plugins `TracePlugin` (which trace dask tasks) and `ResourceMonitorPlugin` (which traces the resource usage of the workers). So there will be two files: `Tutorial_5_Profile-ResourceMonitor-c096.msgpack` and `Tutorial_5_Profile-TracePlugin-c096.msgpack`. We can load the events using the `EventProfiler` class (the same used to register events)."
   ]
  },
  {
   "cell_type": "code",
   "execution_count": 2,
   "metadata": {},
   "outputs": [
    {
     "data": {
      "text/plain": [
       "(EventProfiler(database=FileDatabase at Tutorial_5_Profile-ResourceMonitor-c096.msgpack),\n",
       " EventProfiler(database=FileDatabase at Tutorial_5_Profile-TracePlugin-c096.msgpack))"
      ]
     },
     "execution_count": 2,
     "metadata": {},
     "output_type": "execute_result"
    }
   ],
   "source": [
    "from dasf.profile.profiler import EventProfiler\n",
    "from dasf.profile import MultiEventDatabase\n",
    "\n",
    "db1 = EventProfiler(\"Tutorial_5_Profile-ResourceMonitor-c096.msgpack\")\n",
    "db2 = EventProfiler(\"Tutorial_5_Profile-TracePlugin-c096.msgpack\")\n",
    "\n",
    "db1, db2"
   ]
  },
  {
   "cell_type": "markdown",
   "metadata": {},
   "source": [
    "Database are collection of events. Each event is a dataclass and follows the [Chrome Trace Event Format](https://docs.google.com/document/d/1CvAClvFfyA5R-PhYUmn5OOQtYMH4h6I0nSsKchNAySU/preview). The `EventProfiler` class is a wrapper around a list of events. It provides methods to add events and to write the database to a file.\n",
    "\n",
    "We can iterate over the events in a database using the `get_traces` function. It will return an iterator over the events in the database. The events are returned in the order they were recorded. "
   ]
  },
  {
   "cell_type": "code",
   "execution_count": 4,
   "metadata": {},
   "outputs": [
    {
     "name": "stdout",
     "output_type": "stream",
     "text": [
      "InstantEvent(name='Resource Usage', timestamp=3869.01274743, phase='I', scope='g', process_id='c096', thread_id=None, args={'cpu': 40.2, 'memory': 2744729600, 'time': 1692111381.5415905, 'host_net_io.read_bps': 10685583.118998485, 'host_net_io.write_bps': 10673829.571746167, 'host_disk_io.read_bps': 0.0, 'host_disk_io.write_bps': 134589.30723739465, 'num_fds': 189, 'gpu_utilization': 0, 'gpu_memory_used': 3158966272})\n",
      "CompleteEvent(name='Compute', timestamp=3837.884328029, duration=0.050518035888671875, phase='X', process_id='c096', thread_id='worker-c096-2', args={'key': 'getGPUs-42237764-1836-4be8-ae62-948ce02e1d6a', 'name': 'tGPUs-42237764-1836-4be8-ae62', 'state': 'memory', 'size': 280, 'shape': [], 'dtype': 'unknown', 'type': \"<class 'list'>\", 'dependencies': [], 'dependents': []})\n"
     ]
    }
   ],
   "source": [
    "for event in db1.get_traces():\n",
    "    print(event)\n",
    "    break\n",
    "\n",
    "for event in db2.get_traces():\n",
    "    print(event)\n",
    "    break"
   ]
  },
  {
   "cell_type": "markdown",
   "metadata": {},
   "source": [
    "The `MultiEventDatabase` allow use traverse multiple databases at the same time (usually, needed for analyses)."
   ]
  },
  {
   "cell_type": "code",
   "execution_count": 5,
   "metadata": {},
   "outputs": [
    {
     "data": {
      "text/plain": [
       "MultiEventDatabase with 2 databases"
      ]
     },
     "execution_count": 5,
     "metadata": {},
     "output_type": "execute_result"
    }
   ],
   "source": [
    "database = MultiEventDatabase([db1, db2])\n",
    "database"
   ]
  },
  {
   "cell_type": "code",
   "execution_count": 6,
   "metadata": {},
   "outputs": [
    {
     "name": "stdout",
     "output_type": "stream",
     "text": [
      "InstantEvent(name='Resource Usage', timestamp=3869.01274743, phase='I', scope='g', process_id='c096', thread_id=None, args={'cpu': 40.2, 'memory': 2744729600, 'time': 1692111381.5415905, 'host_net_io.read_bps': 10685583.118998485, 'host_net_io.write_bps': 10673829.571746167, 'host_disk_io.read_bps': 0.0, 'host_disk_io.write_bps': 134589.30723739465, 'num_fds': 189, 'gpu_utilization': 0, 'gpu_memory_used': 3158966272})\n"
     ]
    }
   ],
   "source": [
    "for event in database:\n",
    "    print(event)\n",
    "    break"
   ]
  },
  {
   "cell_type": "markdown",
   "metadata": {},
   "source": [
    "Or generate a list with all events"
   ]
  },
  {
   "cell_type": "code",
   "execution_count": 7,
   "metadata": {},
   "outputs": [
    {
     "data": {
      "text/plain": [
       "[InstantEvent(name='Resource Usage', timestamp=3869.01274743, phase='I', scope='g', process_id='c096', thread_id=None, args={'cpu': 40.2, 'memory': 2744729600, 'time': 1692111381.5415905, 'host_net_io.read_bps': 10685583.118998485, 'host_net_io.write_bps': 10673829.571746167, 'host_disk_io.read_bps': 0.0, 'host_disk_io.write_bps': 134589.30723739465, 'num_fds': 189, 'gpu_utilization': 0, 'gpu_memory_used': 3158966272}),\n",
       " InstantEvent(name='Resource Usage', timestamp=3869.018545822, phase='I', scope='g', process_id='c096', thread_id=None, args={'cpu': 0.0, 'memory': 2744729600, 'time': 1692111381.5495014, 'host_net_io.read_bps': 24242915.31342638, 'host_net_io.write_bps': 24415081.283950076, 'host_disk_io.read_bps': 0.0, 'host_disk_io.write_bps': 0.0, 'num_fds': 189, 'gpu_utilization': 0, 'gpu_memory_used': 3158966272}),\n",
       " InstantEvent(name='Resource Usage', timestamp=3869.118886256, phase='I', scope='g', process_id='c096', thread_id=None, args={'cpu': 69.9, 'memory': 2744729600, 'time': 1692111381.649612, 'host_net_io.read_bps': 30272623.59462569, 'host_net_io.write_bps': 28577096.880356316, 'host_disk_io.read_bps': 0.0, 'host_disk_io.write_bps': 10024124.945820678, 'num_fds': 189, 'gpu_utilization': 1, 'gpu_memory_used': 3158966272}),\n",
       " InstantEvent(name='Resource Usage', timestamp=3869.219099359, phase='I', scope='g', process_id='c096', thread_id=None, args={'cpu': 10.0, 'memory': 2744995840, 'time': 1692111381.7498834, 'host_net_io.read_bps': 3102557.5490633715, 'host_net_io.write_bps': 3103435.1666125604, 'host_disk_io.read_bps': 0.0, 'host_disk_io.write_bps': 0.0, 'num_fds': 193, 'gpu_utilization': 1, 'gpu_memory_used': 3158966272}),\n",
       " InstantEvent(name='Resource Usage', timestamp=3869.319312409, phase='I', scope='g', process_id='c096', thread_id=None, args={'cpu': 0.0, 'memory': 2744995840, 'time': 1692111381.850187, 'host_net_io.read_bps': 5343.775123098109, 'host_net_io.write_bps': 5622.927554901742, 'host_disk_io.read_bps': 0.0, 'host_disk_io.write_bps': 0.0, 'num_fds': 193, 'gpu_utilization': 0, 'gpu_memory_used': 3158966272}),\n",
       " InstantEvent(name='Resource Usage', timestamp=3869.418357631, phase='I', scope='g', process_id='c096', thread_id=None, args={'cpu': 0.0, 'memory': 2744995840, 'time': 1692111381.9493108, 'host_net_io.read_bps': 2703.691829652832, 'host_net_io.write_bps': 3147.58153302867, 'host_disk_io.read_bps': 0.0, 'host_disk_io.write_bps': 0.0, 'num_fds': 193, 'gpu_utilization': 0, 'gpu_memory_used': 3158966272}),\n",
       " InstantEvent(name='Resource Usage', timestamp=3869.518484708, phase='I', scope='g', process_id='c096', thread_id=None, args={'cpu': 10.0, 'memory': 2744995840, 'time': 1692111382.0494256, 'host_net_io.read_bps': 19927.11012718611, 'host_net_io.write_bps': 19927.11012718611, 'host_disk_io.read_bps': 0.0, 'host_disk_io.write_bps': 0.0, 'num_fds': 193, 'gpu_utilization': 0, 'gpu_memory_used': 3158966272}),\n",
       " InstantEvent(name='Resource Usage', timestamp=3869.620366242, phase='I', scope='g', process_id='c096', thread_id=None, args={'cpu': 60.1, 'memory': 2745241600, 'time': 1692111382.1493354, 'host_net_io.read_bps': 2815376.423511278, 'host_net_io.write_bps': 2813654.866414532, 'host_disk_io.read_bps': 0.0, 'host_disk_io.write_bps': 0.0, 'num_fds': 193, 'gpu_utilization': 0, 'gpu_memory_used': 3194617856}),\n",
       " InstantEvent(name='Resource Usage', timestamp=3869.721167103, phase='I', scope='g', process_id='c096', thread_id=None, args={'cpu': 70.0, 'memory': 2745511936, 'time': 1692111382.2492902, 'host_net_io.read_bps': 3200509.781330604, 'host_net_io.write_bps': 3200509.781330604, 'host_disk_io.read_bps': 0.0, 'host_disk_io.write_bps': 0.0, 'num_fds': 193, 'gpu_utilization': 0, 'gpu_memory_used': 3194617856}),\n",
       " InstantEvent(name='Resource Usage', timestamp=3869.821650885, phase='I', scope='g', process_id='c096', thread_id=None, args={'cpu': 79.1, 'memory': 2745782272, 'time': 1692111382.350485, 'host_net_io.read_bps': 3472817.2998334193, 'host_net_io.write_bps': 4041423.6761417557, 'host_disk_io.read_bps': 0.0, 'host_disk_io.write_bps': 0.0, 'num_fds': 193, 'gpu_utilization': 0, 'gpu_memory_used': 3194617856})]"
      ]
     },
     "execution_count": 7,
     "metadata": {},
     "output_type": "execute_result"
    }
   ],
   "source": [
    "all_events = list(database)\n",
    "all_events[:10]"
   ]
  },
  {
   "cell_type": "code",
   "execution_count": 8,
   "metadata": {},
   "outputs": [
    {
     "data": {
      "text/plain": [
       "[InstantEvent(name='Managed Memory', timestamp=3907.782270047, phase='I', scope='g', process_id='c096', thread_id='worker-c096-1', args={'key': \"('reshape-b1532816c7b1745efbdc8cb9a24f29f9', 0, 0)\", 'state': 'memory', 'size': 300048, 'tasks': 17}),\n",
       " CompleteEvent(name='Compute', timestamp=3907.792064168, duration=8.106231689453125e-06, phase='X', process_id='c096', thread_id='worker-c096-1', args={'key': 'original-array-64bef1cc631f078a2e8f3d2c24d62e99', 'name': 'iginal-array', 'state': 'memory', 'size': 8, 'shape': [2], 'dtype': 'float32', 'type': \"<class 'cupy._core.core.ndarray'>\", 'dependencies': [], 'dependents': []}),\n",
       " InstantEvent(name='Managed Memory', timestamp=3907.792064168, phase='I', scope='g', process_id='c096', thread_id='worker-c096-1', args={'key': 'original-array-64bef1cc631f078a2e8f3d2c24d62e99', 'state': 'memory', 'size': 300032, 'tasks': 15}),\n",
       " CompleteEvent(name='Compute', timestamp=3907.792960693, duration=5.4836273193359375e-06, phase='X', process_id='c096', thread_id='worker-c096-1', args={'key': 'original-array-808dd9f17eb2378b6fb7a3aeddc6cb36', 'name': 'iginal-array', 'state': 'memory', 'size': 8, 'shape': [2], 'dtype': 'float32', 'type': \"<class 'cupy._core.core.ndarray'>\", 'dependencies': [], 'dependents': []}),\n",
       " InstantEvent(name='Managed Memory', timestamp=3907.792960693, phase='I', scope='g', process_id='c096', thread_id='worker-c096-1', args={'key': 'original-array-808dd9f17eb2378b6fb7a3aeddc6cb36', 'state': 'memory', 'size': 300040, 'tasks': 16}),\n",
       " CompleteEvent(name='Compute', timestamp=3907.803720107, duration=5.698204040527344e-05, phase='X', process_id='c096', thread_id='worker-c096-1', args={'key': \"('array-reshape-22612059257db170fa304ae3f488407c', 0, 0)\", 'name': 'array-reshape', 'state': 'memory', 'size': 8, 'shape': [1, 2], 'dtype': 'float32', 'type': \"<class 'cupy._core.core.ndarray'>\", 'dependencies': ['original-array-64bef1cc631f078a2e8f3d2c24d62e99'], 'dependents': []}),\n",
       " InstantEvent(name='Managed Memory', timestamp=3907.803720107, phase='I', scope='g', process_id='c096', thread_id='worker-c096-1', args={'key': \"('array-reshape-22612059257db170fa304ae3f488407c', 0, 0)\", 'state': 'memory', 'size': 300032, 'tasks': 15}),\n",
       " CompleteEvent(name='Compute', timestamp=3907.804997844, duration=4.4345855712890625e-05, phase='X', process_id='c096', thread_id='worker-c096-1', args={'key': \"('array-reshape-f70b70b2e4718d09ca3086bb97bec087', 0, 0)\", 'name': 'array-reshape', 'state': 'memory', 'size': 8, 'shape': [1, 2], 'dtype': 'float32', 'type': \"<class 'cupy._core.core.ndarray'>\", 'dependencies': ['original-array-808dd9f17eb2378b6fb7a3aeddc6cb36'], 'dependents': []}),\n",
       " InstantEvent(name='Managed Memory', timestamp=3907.804997844, phase='I', scope='g', process_id='c096', thread_id='worker-c096-1', args={'key': \"('array-reshape-f70b70b2e4718d09ca3086bb97bec087', 0, 0)\", 'state': 'memory', 'size': 300040, 'tasks': 16}),\n",
       " CompleteEvent(name='Compute', timestamp=3907.811160065, duration=5.245208740234375e-06, phase='X', process_id='c096', thread_id='worker-c096-1', args={'key': \"('reshape-22612059257db170fa304ae3f488407c', 0, 0)\", 'name': 'reshape', 'state': 'memory', 'size': 8, 'shape': [1, 2], 'dtype': 'float32', 'type': \"<class 'cupy._core.core.ndarray'>\", 'dependencies': [\"('array-reshape-22612059257db170fa304ae3f488407c', 0, 0)\"], 'dependents': []})]"
      ]
     },
     "execution_count": 8,
     "metadata": {},
     "output_type": "execute_result"
    }
   ],
   "source": [
    "all_events[-10:]"
   ]
  },
  {
   "cell_type": "markdown",
   "metadata": {},
   "source": [
    "Given a `MultiEventDatabase` we can use the `TraceAnalyser` that perform analyses over the database. It is useful to find bottlenecks in the code and to understand how the code is executed. "
   ]
  },
  {
   "cell_type": "code",
   "execution_count": 9,
   "metadata": {},
   "outputs": [],
   "source": [
    "from dasf.profile import TraceAnalyser\n",
    "analyser = TraceAnalyser(database)"
   ]
  },
  {
   "cell_type": "markdown",
   "metadata": {},
   "source": [
    "### Function Bottleneck Report\n",
    "\n",
    "The function bootleneck report will show us the function that is taking the most time to run. This is useful for optimizing code. Here, a function is composed by a set of tasks that applies this function in different chunks of data. It is the function used by `map_blocks` (where a function is applyed to several chunks). This report is a dataframe with the following columns:\n",
    "- `Host`: the host where the function is running\n",
    "- `GPU`: the GPU where the function is running\n",
    "- `Function`: the function name\n",
    "- `Duration`: the time spent in the function\n",
    "- `Percentage of total time (%)`: the percentage of total compute time spent in the function\n",
    "- `Mean GPU Utilization (%)`: the mean GPU utilization during the function execution\n",
    "- `Mean GPU Memory Used (GB)`: the mean GPU memory used during the function execution\n",
    "- `Mean Data Size (MB)`: the mean data size used during the function execution (as input)\n",
    "- `Mean Data Throughput (MB/s)`: the mean data throughput during the function execution (as input)\n",
    "- `Num tasks (chunks)`: the number of tasks (chunks) that the function was applied\n",
    "- `Mean Task Time (s)`: the mean time spent in each task (chunk)"
   ]
  },
  {
   "cell_type": "code",
   "execution_count": 5,
   "metadata": {},
   "outputs": [
    {
     "name": "stderr",
     "output_type": "stream",
     "text": [
      "Creating annotated task graph: 100%|███████████████████████████████████| 122391/122391 [00:00<00:00, 480393.43it/s]\n",
      "[function_bottleneck] Analysing traces: 100%|███████████████████████████| 122391/122391 [00:07<00:00, 17441.83it/s]\n",
      "[function_bottleneck] Creating dataframe: 100%|██████████████████████████████████████| 4/4 [00:00<00:00, 41.34it/s]\n"
     ]
    },
    {
     "data": {
      "text/html": [
       "<div>\n",
       "<style scoped>\n",
       "    .dataframe tbody tr th:only-of-type {\n",
       "        vertical-align: middle;\n",
       "    }\n",
       "\n",
       "    .dataframe tbody tr th {\n",
       "        vertical-align: top;\n",
       "    }\n",
       "\n",
       "    .dataframe thead th {\n",
       "        text-align: right;\n",
       "    }\n",
       "</style>\n",
       "<table border=\"1\" class=\"dataframe\">\n",
       "  <thead>\n",
       "    <tr style=\"text-align: right;\">\n",
       "      <th></th>\n",
       "      <th>Host</th>\n",
       "      <th>GPU</th>\n",
       "      <th>Function</th>\n",
       "      <th>Duration (s)</th>\n",
       "      <th>Percentage of total time (%)</th>\n",
       "      <th>Mean GPU Utilization (%)</th>\n",
       "      <th>Mean GPU Memory Used (GB)</th>\n",
       "      <th>Mean Data Size (MB)</th>\n",
       "      <th>Mean Throughput (MB/s)</th>\n",
       "      <th>Num Tasks (chunks)</th>\n",
       "      <th>Mean Task time (s)</th>\n",
       "    </tr>\n",
       "  </thead>\n",
       "  <tbody>\n",
       "    <tr>\n",
       "      <th>624</th>\n",
       "      <td>c096</td>\n",
       "      <td>0</td>\n",
       "      <td>unc_fit-62a75b12-6b7a-49b0-b279</td>\n",
       "      <td>2.471439</td>\n",
       "      <td>34.967563</td>\n",
       "      <td>0.0</td>\n",
       "      <td>0.000000</td>\n",
       "      <td>0.160000</td>\n",
       "      <td>0.064740</td>\n",
       "      <td>1</td>\n",
       "      <td>2.471439</td>\n",
       "    </tr>\n",
       "    <tr>\n",
       "      <th>1753</th>\n",
       "      <td>c096</td>\n",
       "      <td>1</td>\n",
       "      <td>unc_fit-2d612856-11c9-4d72-8062</td>\n",
       "      <td>2.471328</td>\n",
       "      <td>35.497386</td>\n",
       "      <td>0.0</td>\n",
       "      <td>0.000000</td>\n",
       "      <td>0.200000</td>\n",
       "      <td>0.080928</td>\n",
       "      <td>1</td>\n",
       "      <td>2.471328</td>\n",
       "    </tr>\n",
       "    <tr>\n",
       "      <th>10</th>\n",
       "      <td>c096</td>\n",
       "      <td>2</td>\n",
       "      <td>unc_fit-abdc6ba0-f141-4e3c-909e</td>\n",
       "      <td>2.463677</td>\n",
       "      <td>33.690773</td>\n",
       "      <td>0.0</td>\n",
       "      <td>0.000000</td>\n",
       "      <td>0.240000</td>\n",
       "      <td>0.097415</td>\n",
       "      <td>1</td>\n",
       "      <td>2.463677</td>\n",
       "    </tr>\n",
       "    <tr>\n",
       "      <th>1228</th>\n",
       "      <td>c096</td>\n",
       "      <td>3</td>\n",
       "      <td>unc_fit-d813c7ea-7042-4c69-8a72</td>\n",
       "      <td>2.463437</td>\n",
       "      <td>34.930821</td>\n",
       "      <td>0.0</td>\n",
       "      <td>0.000000</td>\n",
       "      <td>0.200000</td>\n",
       "      <td>0.081187</td>\n",
       "      <td>1</td>\n",
       "      <td>2.463437</td>\n",
       "    </tr>\n",
       "    <tr>\n",
       "      <th>8</th>\n",
       "      <td>c096</td>\n",
       "      <td>2</td>\n",
       "      <td>var-partial</td>\n",
       "      <td>1.172959</td>\n",
       "      <td>16.040208</td>\n",
       "      <td>0.0</td>\n",
       "      <td>0.000000</td>\n",
       "      <td>0.000908</td>\n",
       "      <td>0.619854</td>\n",
       "      <td>685</td>\n",
       "      <td>0.001712</td>\n",
       "    </tr>\n",
       "    <tr>\n",
       "      <th>1750</th>\n",
       "      <td>c096</td>\n",
       "      <td>1</td>\n",
       "      <td>var-partial</td>\n",
       "      <td>1.105952</td>\n",
       "      <td>15.885550</td>\n",
       "      <td>0.0</td>\n",
       "      <td>0.000000</td>\n",
       "      <td>0.000907</td>\n",
       "      <td>0.624356</td>\n",
       "      <td>670</td>\n",
       "      <td>0.001651</td>\n",
       "    </tr>\n",
       "    <tr>\n",
       "      <th>1225</th>\n",
       "      <td>c096</td>\n",
       "      <td>3</td>\n",
       "      <td>var-partial</td>\n",
       "      <td>1.049221</td>\n",
       "      <td>14.877642</td>\n",
       "      <td>0.0</td>\n",
       "      <td>0.000000</td>\n",
       "      <td>0.000907</td>\n",
       "      <td>0.617285</td>\n",
       "      <td>639</td>\n",
       "      <td>0.001642</td>\n",
       "    </tr>\n",
       "    <tr>\n",
       "      <th>622</th>\n",
       "      <td>c096</td>\n",
       "      <td>0</td>\n",
       "      <td>var-partial</td>\n",
       "      <td>1.018737</td>\n",
       "      <td>14.413764</td>\n",
       "      <td>0.0</td>\n",
       "      <td>0.000000</td>\n",
       "      <td>0.000906</td>\n",
       "      <td>0.623162</td>\n",
       "      <td>570</td>\n",
       "      <td>0.001787</td>\n",
       "    </tr>\n",
       "    <tr>\n",
       "      <th>1223</th>\n",
       "      <td>c096</td>\n",
       "      <td>3</td>\n",
       "      <td>var</td>\n",
       "      <td>0.825022</td>\n",
       "      <td>11.698578</td>\n",
       "      <td>0.0</td>\n",
       "      <td>0.000000</td>\n",
       "      <td>0.040000</td>\n",
       "      <td>70.562086</td>\n",
       "      <td>711</td>\n",
       "      <td>0.001160</td>\n",
       "    </tr>\n",
       "    <tr>\n",
       "      <th>621</th>\n",
       "      <td>c096</td>\n",
       "      <td>0</td>\n",
       "      <td>mean_combine-partial</td>\n",
       "      <td>0.534140</td>\n",
       "      <td>7.557362</td>\n",
       "      <td>1.0</td>\n",
       "      <td>3.158966</td>\n",
       "      <td>0.000752</td>\n",
       "      <td>1.198554</td>\n",
       "      <td>674</td>\n",
       "      <td>0.000792</td>\n",
       "    </tr>\n",
       "  </tbody>\n",
       "</table>\n",
       "</div>"
      ],
      "text/plain": [
       "      Host GPU                         Function  Duration (s)  \\\n",
       "624   c096   0  unc_fit-62a75b12-6b7a-49b0-b279      2.471439   \n",
       "1753  c096   1  unc_fit-2d612856-11c9-4d72-8062      2.471328   \n",
       "10    c096   2  unc_fit-abdc6ba0-f141-4e3c-909e      2.463677   \n",
       "1228  c096   3  unc_fit-d813c7ea-7042-4c69-8a72      2.463437   \n",
       "8     c096   2                      var-partial      1.172959   \n",
       "1750  c096   1                      var-partial      1.105952   \n",
       "1225  c096   3                      var-partial      1.049221   \n",
       "622   c096   0                      var-partial      1.018737   \n",
       "1223  c096   3                              var      0.825022   \n",
       "621   c096   0             mean_combine-partial      0.534140   \n",
       "\n",
       "      Percentage of total time (%)  Mean GPU Utilization (%)  \\\n",
       "624                      34.967563                       0.0   \n",
       "1753                     35.497386                       0.0   \n",
       "10                       33.690773                       0.0   \n",
       "1228                     34.930821                       0.0   \n",
       "8                        16.040208                       0.0   \n",
       "1750                     15.885550                       0.0   \n",
       "1225                     14.877642                       0.0   \n",
       "622                      14.413764                       0.0   \n",
       "1223                     11.698578                       0.0   \n",
       "621                       7.557362                       1.0   \n",
       "\n",
       "      Mean GPU Memory Used (GB)  Mean Data Size (MB)  Mean Throughput (MB/s)  \\\n",
       "624                    0.000000             0.160000                0.064740   \n",
       "1753                   0.000000             0.200000                0.080928   \n",
       "10                     0.000000             0.240000                0.097415   \n",
       "1228                   0.000000             0.200000                0.081187   \n",
       "8                      0.000000             0.000908                0.619854   \n",
       "1750                   0.000000             0.000907                0.624356   \n",
       "1225                   0.000000             0.000907                0.617285   \n",
       "622                    0.000000             0.000906                0.623162   \n",
       "1223                   0.000000             0.040000               70.562086   \n",
       "621                    3.158966             0.000752                1.198554   \n",
       "\n",
       "      Num Tasks (chunks)  Mean Task time (s)  \n",
       "624                    1            2.471439  \n",
       "1753                   1            2.471328  \n",
       "10                     1            2.463677  \n",
       "1228                   1            2.463437  \n",
       "8                    685            0.001712  \n",
       "1750                 670            0.001651  \n",
       "1225                 639            0.001642  \n",
       "622                  570            0.001787  \n",
       "1223                 711            0.001160  \n",
       "621                  674            0.000792  "
      ]
     },
     "execution_count": 5,
     "metadata": {},
     "output_type": "execute_result"
    }
   ],
   "source": [
    "func_bottleneck_dataframe = analyser.per_function_bottleneck()\n",
    "func_bottleneck_dataframe.head(10)"
   ]
  },
  {
   "cell_type": "markdown",
   "metadata": {},
   "source": [
    "### Task Bootleneck Report\n",
    "\n",
    "The task bottleneck report shows the tasks that are the most time consuming in the application. This is similar to the above report, but is per task instead of per function (i.e., each block). This is similar to DASK task breakdown report."
   ]
  },
  {
   "cell_type": "code",
   "execution_count": 6,
   "metadata": {},
   "outputs": [
    {
     "name": "stderr",
     "output_type": "stream",
     "text": [
      "Creating annotated task graph: 100%|███████████████████████████████████| 122391/122391 [00:00<00:00, 426913.80it/s]\n",
      "[task_bottleneck] Analysing traces: 100%|███████████████████████████████| 122391/122391 [00:11<00:00, 10857.61it/s]\n",
      "[task_bottleneck] Creating dataframe: 100%|██████████████████████████████████████████| 4/4 [00:00<00:00,  5.47it/s]\n"
     ]
    },
    {
     "data": {
      "text/html": [
       "<div>\n",
       "<style scoped>\n",
       "    .dataframe tbody tr th:only-of-type {\n",
       "        vertical-align: middle;\n",
       "    }\n",
       "\n",
       "    .dataframe tbody tr th {\n",
       "        vertical-align: top;\n",
       "    }\n",
       "\n",
       "    .dataframe thead th {\n",
       "        text-align: right;\n",
       "    }\n",
       "</style>\n",
       "<table border=\"1\" class=\"dataframe\">\n",
       "  <thead>\n",
       "    <tr style=\"text-align: right;\">\n",
       "      <th></th>\n",
       "      <th>Host</th>\n",
       "      <th>GPU</th>\n",
       "      <th>Task Key</th>\n",
       "      <th>Duration (s)</th>\n",
       "      <th>Percentage of total time (%)</th>\n",
       "      <th>Memory usage (Mb)</th>\n",
       "    </tr>\n",
       "  </thead>\n",
       "  <tbody>\n",
       "    <tr>\n",
       "      <th>10453</th>\n",
       "      <td>c096</td>\n",
       "      <td>0</td>\n",
       "      <td>_func_fit-62a75b12-6b7a-49b0-b279-160a8ff3ee3b</td>\n",
       "      <td>2.471439</td>\n",
       "      <td>34.967563</td>\n",
       "      <td>0.000048</td>\n",
       "    </tr>\n",
       "    <tr>\n",
       "      <th>31484</th>\n",
       "      <td>c096</td>\n",
       "      <td>1</td>\n",
       "      <td>_func_fit-2d612856-11c9-4d72-8062-7dfff911cf37</td>\n",
       "      <td>2.471328</td>\n",
       "      <td>35.497386</td>\n",
       "      <td>0.000048</td>\n",
       "    </tr>\n",
       "    <tr>\n",
       "      <th>59</th>\n",
       "      <td>c096</td>\n",
       "      <td>2</td>\n",
       "      <td>_func_fit-abdc6ba0-f141-4e3c-909e-059f1f2eed4f</td>\n",
       "      <td>2.463677</td>\n",
       "      <td>33.690773</td>\n",
       "      <td>0.000048</td>\n",
       "    </tr>\n",
       "    <tr>\n",
       "      <th>21017</th>\n",
       "      <td>c096</td>\n",
       "      <td>3</td>\n",
       "      <td>_func_fit-d813c7ea-7042-4c69-8a72-7bdafcec69fb</td>\n",
       "      <td>2.463437</td>\n",
       "      <td>34.930821</td>\n",
       "      <td>0.000048</td>\n",
       "    </tr>\n",
       "    <tr>\n",
       "      <th>31507</th>\n",
       "      <td>c096</td>\n",
       "      <td>1</td>\n",
       "      <td>_update-96127d18-5249-4874-accc-a95d91831a7f</td>\n",
       "      <td>0.452484</td>\n",
       "      <td>6.499339</td>\n",
       "      <td>0.000092</td>\n",
       "    </tr>\n",
       "    <tr>\n",
       "      <th>10497</th>\n",
       "      <td>c096</td>\n",
       "      <td>0</td>\n",
       "      <td>_update-988648be-51da-405b-a484-a25c9db01ee3</td>\n",
       "      <td>0.430781</td>\n",
       "      <td>6.094980</td>\n",
       "      <td>0.000092</td>\n",
       "    </tr>\n",
       "    <tr>\n",
       "      <th>83</th>\n",
       "      <td>c096</td>\n",
       "      <td>2</td>\n",
       "      <td>_update-8c69b565-dc4d-4abc-80bb-e8085e2960bb</td>\n",
       "      <td>0.426465</td>\n",
       "      <td>5.831903</td>\n",
       "      <td>0.000092</td>\n",
       "    </tr>\n",
       "    <tr>\n",
       "      <th>21070</th>\n",
       "      <td>c096</td>\n",
       "      <td>3</td>\n",
       "      <td>_update-af7e6144-6bc1-4f85-9b66-4dd7e5f241d0</td>\n",
       "      <td>0.425992</td>\n",
       "      <td>6.040446</td>\n",
       "      <td>0.000092</td>\n",
       "    </tr>\n",
       "    <tr>\n",
       "      <th>21006</th>\n",
       "      <td>c096</td>\n",
       "      <td>3</td>\n",
       "      <td>('var-e4678ef53eb782384180081aa58da0be', 13, 0)</td>\n",
       "      <td>0.363825</td>\n",
       "      <td>5.158930</td>\n",
       "      <td>0.000450</td>\n",
       "    </tr>\n",
       "    <tr>\n",
       "      <th>9</th>\n",
       "      <td>c096</td>\n",
       "      <td>2</td>\n",
       "      <td>('mean_chunk-0ff2c4ec843f304adcd7d25ca35c47a7'...</td>\n",
       "      <td>0.259243</td>\n",
       "      <td>3.545143</td>\n",
       "      <td>0.000376</td>\n",
       "    </tr>\n",
       "  </tbody>\n",
       "</table>\n",
       "</div>"
      ],
      "text/plain": [
       "       Host GPU                                           Task Key  \\\n",
       "10453  c096   0     _func_fit-62a75b12-6b7a-49b0-b279-160a8ff3ee3b   \n",
       "31484  c096   1     _func_fit-2d612856-11c9-4d72-8062-7dfff911cf37   \n",
       "59     c096   2     _func_fit-abdc6ba0-f141-4e3c-909e-059f1f2eed4f   \n",
       "21017  c096   3     _func_fit-d813c7ea-7042-4c69-8a72-7bdafcec69fb   \n",
       "31507  c096   1       _update-96127d18-5249-4874-accc-a95d91831a7f   \n",
       "10497  c096   0       _update-988648be-51da-405b-a484-a25c9db01ee3   \n",
       "83     c096   2       _update-8c69b565-dc4d-4abc-80bb-e8085e2960bb   \n",
       "21070  c096   3       _update-af7e6144-6bc1-4f85-9b66-4dd7e5f241d0   \n",
       "21006  c096   3    ('var-e4678ef53eb782384180081aa58da0be', 13, 0)   \n",
       "9      c096   2  ('mean_chunk-0ff2c4ec843f304adcd7d25ca35c47a7'...   \n",
       "\n",
       "       Duration (s)  Percentage of total time (%)  Memory usage (Mb)  \n",
       "10453      2.471439                     34.967563           0.000048  \n",
       "31484      2.471328                     35.497386           0.000048  \n",
       "59         2.463677                     33.690773           0.000048  \n",
       "21017      2.463437                     34.930821           0.000048  \n",
       "31507      0.452484                      6.499339           0.000092  \n",
       "10497      0.430781                      6.094980           0.000092  \n",
       "83         0.426465                      5.831903           0.000092  \n",
       "21070      0.425992                      6.040446           0.000092  \n",
       "21006      0.363825                      5.158930           0.000450  \n",
       "9          0.259243                      3.545143           0.000376  "
      ]
     },
     "execution_count": 6,
     "metadata": {},
     "output_type": "execute_result"
    }
   ],
   "source": [
    "task_bottleneck_dataframe = analyser.per_task_bottleneck()\n",
    "task_bottleneck_dataframe.head(10)"
   ]
  },
  {
   "cell_type": "markdown",
   "metadata": {},
   "source": [
    "### Task balance\n",
    "\n",
    "This report show the number of tasks in memory (per worker), in each instant of time. This is useful to check imbalance in the load of the workers."
   ]
  },
  {
   "cell_type": "code",
   "execution_count": 7,
   "metadata": {},
   "outputs": [
    {
     "name": "stderr",
     "output_type": "stream",
     "text": [
      "[task_balance] Analysing traces: 100%|████████████████████████████████| 122391/122391 [00:00<00:00, 1256360.33it/s]\n",
      "[task_balance] Creating dataframe: 100%|███████████████████████████████████████| 71/71 [00:00<00:00, 359222.66it/s]\n"
     ]
    },
    {
     "data": {
      "text/html": [
       "<div>\n",
       "<style scoped>\n",
       "    .dataframe tbody tr th:only-of-type {\n",
       "        vertical-align: middle;\n",
       "    }\n",
       "\n",
       "    .dataframe tbody tr th {\n",
       "        vertical-align: top;\n",
       "    }\n",
       "\n",
       "    .dataframe thead th {\n",
       "        text-align: right;\n",
       "    }\n",
       "</style>\n",
       "<table border=\"1\" class=\"dataframe\">\n",
       "  <thead>\n",
       "    <tr style=\"text-align: right;\">\n",
       "      <th></th>\n",
       "      <th>Time Interval (seconds from begin)</th>\n",
       "      <th>worker-c096-0</th>\n",
       "      <th>worker-c096-1</th>\n",
       "      <th>worker-c096-2</th>\n",
       "      <th>worker-c096-3</th>\n",
       "    </tr>\n",
       "  </thead>\n",
       "  <tbody>\n",
       "    <tr>\n",
       "      <th>0</th>\n",
       "      <td>0</td>\n",
       "      <td>0.0</td>\n",
       "      <td>0.0</td>\n",
       "      <td>1.0</td>\n",
       "      <td>1.0</td>\n",
       "    </tr>\n",
       "    <tr>\n",
       "      <th>1</th>\n",
       "      <td>1</td>\n",
       "      <td>10.0</td>\n",
       "      <td>12.0</td>\n",
       "      <td>16.0</td>\n",
       "      <td>11.0</td>\n",
       "    </tr>\n",
       "    <tr>\n",
       "      <th>2</th>\n",
       "      <td>6</td>\n",
       "      <td>33.0</td>\n",
       "      <td>13.0</td>\n",
       "      <td>15.0</td>\n",
       "      <td>35.0</td>\n",
       "    </tr>\n",
       "    <tr>\n",
       "      <th>3</th>\n",
       "      <td>7</td>\n",
       "      <td>8.0</td>\n",
       "      <td>14.0</td>\n",
       "      <td>32.0</td>\n",
       "      <td>17.0</td>\n",
       "    </tr>\n",
       "    <tr>\n",
       "      <th>4</th>\n",
       "      <td>8</td>\n",
       "      <td>32.0</td>\n",
       "      <td>15.0</td>\n",
       "      <td>31.0</td>\n",
       "      <td>20.0</td>\n",
       "    </tr>\n",
       "    <tr>\n",
       "      <th>5</th>\n",
       "      <td>9</td>\n",
       "      <td>32.0</td>\n",
       "      <td>30.0</td>\n",
       "      <td>19.0</td>\n",
       "      <td>19.0</td>\n",
       "    </tr>\n",
       "    <tr>\n",
       "      <th>6</th>\n",
       "      <td>10</td>\n",
       "      <td>14.0</td>\n",
       "      <td>14.0</td>\n",
       "      <td>14.0</td>\n",
       "      <td>15.0</td>\n",
       "    </tr>\n",
       "    <tr>\n",
       "      <th>7</th>\n",
       "      <td>11</td>\n",
       "      <td>13.0</td>\n",
       "      <td>15.0</td>\n",
       "      <td>14.0</td>\n",
       "      <td>21.0</td>\n",
       "    </tr>\n",
       "    <tr>\n",
       "      <th>8</th>\n",
       "      <td>12</td>\n",
       "      <td>16.0</td>\n",
       "      <td>19.0</td>\n",
       "      <td>9.0</td>\n",
       "      <td>16.0</td>\n",
       "    </tr>\n",
       "    <tr>\n",
       "      <th>9</th>\n",
       "      <td>13</td>\n",
       "      <td>18.0</td>\n",
       "      <td>15.0</td>\n",
       "      <td>17.0</td>\n",
       "      <td>20.0</td>\n",
       "    </tr>\n",
       "  </tbody>\n",
       "</table>\n",
       "</div>"
      ],
      "text/plain": [
       "   Time Interval (seconds from begin)  worker-c096-0  worker-c096-1  \\\n",
       "0                                   0            0.0            0.0   \n",
       "1                                   1           10.0           12.0   \n",
       "2                                   6           33.0           13.0   \n",
       "3                                   7            8.0           14.0   \n",
       "4                                   8           32.0           15.0   \n",
       "5                                   9           32.0           30.0   \n",
       "6                                  10           14.0           14.0   \n",
       "7                                  11           13.0           15.0   \n",
       "8                                  12           16.0           19.0   \n",
       "9                                  13           18.0           15.0   \n",
       "\n",
       "   worker-c096-2  worker-c096-3  \n",
       "0            1.0            1.0  \n",
       "1           16.0           11.0  \n",
       "2           15.0           35.0  \n",
       "3           32.0           17.0  \n",
       "4           31.0           20.0  \n",
       "5           19.0           19.0  \n",
       "6           14.0           15.0  \n",
       "7           14.0           21.0  \n",
       "8            9.0           16.0  \n",
       "9           17.0           20.0  "
      ]
     },
     "execution_count": 7,
     "metadata": {},
     "output_type": "execute_result"
    }
   ],
   "source": [
    "task_balance_dataframe = analyser.per_worker_task_balance()\n",
    "task_balance_dataframe.head(10)"
   ]
  }
 ],
 "metadata": {
  "kernelspec": {
   "display_name": "Python 3 (ipykernel)",
   "language": "python",
   "name": "python3"
  },
  "language_info": {
   "codemirror_mode": {
    "name": "ipython",
    "version": 3
   },
   "file_extension": ".py",
   "mimetype": "text/x-python",
   "name": "python",
   "nbconvert_exporter": "python",
   "pygments_lexer": "ipython3",
   "version": "3.9.13"
  },
  "orig_nbformat": 4
 },
 "nbformat": 4,
 "nbformat_minor": 2
}
